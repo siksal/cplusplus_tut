{
 "cells": [
  {
   "cell_type": "markdown",
   "metadata": {},
   "source": [
    "# C++ TUTORIALS BY SIKIRU OLAMILEKAN SALAU\n",
    "# Variables\n",
    "\n",
    "A variable provides us with named storage that our programs can manipulate. A simple variable definition consists of a type specifier, followed by a list of one or\n",
    "more variable names separated by commas, and ends with a semicolon."
   ]
  },
  {
   "cell_type": "code",
   "execution_count": null,
   "metadata": {},
   "outputs": [],
   "source": [
    "#include <iostream>\n",
    "using namespace std;\n",
    "\n",
    "int main(){\n",
    "    int age = 15;   //Single-line comment\n",
    "    float height = 5.5, weight;\n",
    "    string name = \"Feyintola\";\n",
    "    bool check = true;  //Boolean variable\n",
    "    char gender = 'F';\n",
    "    unsigned double decimal;\n",
    "    \n",
    "    /* \n",
    "    Multiple-line comment\n",
    "    Print out details of the \n",
    "    information above\n",
    "    */\n",
    "   \n",
    "    cout << \"Name: \" << name << endl;\n",
    "    cout << \"Age: \" << age << endl;\n",
    "    printf(\"Height: %.2f\\n\", height);   //Another way to print to standard output\n",
    "    cout << \"Gender: \" << gender << endl;\n",
    "\n",
    "    return 0;\n",
    "}"
   ]
  },
  {
   "cell_type": "markdown",
   "metadata": {},
   "source": [
    "# Strings\n",
    "A string is a variable-length sequence of characters. To use the string type, we\n",
    "must include the string header. Because it is part of the library, string is defined inthe std namespace."
   ]
  },
  {
   "cell_type": "code",
   "execution_count": null,
   "metadata": {},
   "outputs": [],
   "source": [
    "string country;\n",
    "cout << \"Enter your country: \";\n",
    "cin >> country;\n",
    "cout << \"You are in \" << country << endl;"
   ]
  },
  {
   "cell_type": "markdown",
   "metadata": {},
   "source": [
    "## Defining and Initializing Strings"
   ]
  },
  {
   "cell_type": "code",
   "execution_count": null,
   "metadata": {},
   "outputs": [],
   "source": [
    "string name1;   // name1 is an empty string (default initialization)\n",
    "string name2(name1);    // name2 is a copy of name1 (copy initialization)\n",
    "string name3 = name1;   // name3 is a copy of name1 (copy initialization)\n",
    "string name4(\"Robot\");   // name4 is a direct initialization\n",
    "string name5(4, 'r');   // direct initialization (name5 = rrrr)"
   ]
  },
  {
   "cell_type": "markdown",
   "metadata": {},
   "source": [
    "## Operations on Strings\n",
    "### empty()"
   ]
  },
  {
   "cell_type": "code",
   "execution_count": null,
   "metadata": {},
   "outputs": [],
   "source": [
    "string sentence;\n",
    "cout << \"Write a short sentence\" << endl;\n",
    "while (getline(cin, sentence)){\n",
    "    if (!sentence.empty()){\n",
    "        cout << \"Sentence: \" << sentence << endl;\n",
    "    }\n",
    "    else{\n",
    "        cout << \"Please, kindly type a sentence\" << endl;\n",
    "    }\n",
    "}"
   ]
  },
  {
   "cell_type": "markdown",
   "metadata": {},
   "source": [
    "### begin(), end(), and size()"
   ]
  },
  {
   "cell_type": "code",
   "execution_count": null,
   "metadata": {},
   "outputs": [],
   "source": [
    "sstring::iterator start = sentence.begin();\n",
    "string::iterator end = sentence.end();\n",
    "string::size_type size = sentence.size();\n",
    "cout << \"First letter: \" << *start << endl;\n",
    "cout << \"Last letter: \" << *end << endl;\n",
    "cout << \"Size: \" << size << endl;"
   ]
  },
  {
   "cell_type": "markdown",
   "metadata": {},
   "source": [
    "## Working on Characters in Strings\n",
    "Range-based \"for\" to process every character in a string.\n",
    "[cctype](https://www.cplusplus.com/reference/cctype/) declares a set of functions to classify and transform individual characters.\n",
    "\n",
    "### ispunct()"
   ]
  },
  {
   "cell_type": "code",
   "execution_count": null,
   "metadata": {},
   "outputs": [],
   "source": [
    "string question(\"Please, what is the role of a robotics engineer?\");\n",
    "decltype(question.size()) punctuation_count = 0;    // explain\n",
    "for (auto c : question) // for every character in question\n",
    "    if (ispunct(c)){    // if character is a punctuation\n",
    "        punctuation_count++;    // increment count by 1\n",
    "    }\n",
    "cout << \"Question contains \" << punctuation_count << \" punctuation marks\" << endl;"
   ]
  },
  {
   "cell_type": "markdown",
   "metadata": {},
   "source": [
    "### toupper()"
   ]
  },
  {
   "cell_type": "code",
   "execution_count": null,
   "metadata": {},
   "outputs": [],
   "source": [
    "for (auto &i : question)    // \"i\" refers to \"question\"\n",
    "    i = toupper(i);         // all operations on \"i\" are operations on the object \"question\"\n",
    "cout << question << endl;"
   ]
  },
  {
   "cell_type": "markdown",
   "metadata": {},
   "source": [
    "Working with some characters in a string. Use subscript or iterator to access single characters in string. The operator returns a reference to the character at the given position.\n",
    "\n",
    "### Subscript operator []"
   ]
  },
  {
   "cell_type": "code",
   "execution_count": null,
   "metadata": {},
   "outputs": [],
   "source": [
    "question[3] = tolower(question[3]);\n",
    "cout << question << endl;"
   ]
  },
  {
   "cell_type": "markdown",
   "metadata": {},
   "source": [
    "Another example of subscript operator to index through a string. Write a program that reports the position of every puctuation in a sentence."
   ]
  },
  {
   "cell_type": "code",
   "execution_count": null,
   "metadata": {},
   "outputs": [],
   "source": [
    "string sentence = \"A set of words that is complete in itself, typically \\\n",
    "containing a subject and predicate, conveying a statement, question, \\\n",
    "exclamation, or command, and consisting of a main clause and sometimes one or \\\n",
    "more subordinate clauses.\";\n",
    "\n",
    "decltype(sentence.size()) n = 0;\n",
    "for (n; n < sentence.size(); n++){\n",
    "    if (ispunct(sentence[n])){\n",
    "        decltype(n) index = 1;\n",
    "        index += n;\n",
    "        cout << index << \", \";\n",
    "    }\n",
    "}"
   ]
  },
  {
   "cell_type": "markdown",
   "metadata": {},
   "source": [
    "# Vectors\n",
    "A vector is a collection of objects, all of which have the same type. Every object in\n",
    "the collection has an associated index, which gives access to that object. A vector\n",
    "is often referred to as a container because it “contains” other objects. To use a vector , we must include the appropriate header and supply the type of the objects the vector will hold."
   ]
  },
  {
   "cell_type": "code",
   "execution_count": null,
   "metadata": {},
   "outputs": [],
   "source": [
    "#include <vector>\n",
    "vector<int> velocity;   // velocity holds object of type int\n",
    "vector<vector<string>> document;    // document is a vector whose elements are vectors"
   ]
  },
  {
   "cell_type": "markdown",
   "metadata": {},
   "source": [
    "## Defining and Initializing Vectors"
   ]
  },
  {
   "cell_type": "code",
   "execution_count": null,
   "metadata": {},
   "outputs": [],
   "source": [
    "// Copy initialization\n",
    "vector<int> acceleration(velocity); // acceleration has a copy of each element in velocity\n",
    "vector<int> acceleration = velocity; // same as above\n",
    "vector<int> pose(10);   // pose has 10 copies of value-initialized object\n",
    "vector<string> info(3, \"i\");   // info has 3 strings with each value as i\n",
    "int x, y, z;\n",
    "vector<int> coordinates{x, y, z};\n",
    "// List initialization\n",
    "vector<string> hobbies = {\"reading\", \"singing\", \"writing\"};\n",
    "vector<string> best_students{\"Feyintola\", \"Annike\", \"Liam\"};"
   ]
  },
  {
   "cell_type": "markdown",
   "metadata": {},
   "source": [
    "## Vector Operations\n",
    "Operations can be performed on vectors using [member functions](https://www.cplusplus.com/reference/vector/vector/?kw=vector). Examples are:\n",
    "### push_back()"
   ]
  },
  {
   "cell_type": "code",
   "execution_count": null,
   "metadata": {},
   "outputs": [],
   "source": [
    "// Program to display the size of a growing vector.\n",
    "string word;\n",
    "vector<string> log_info;\n",
    "while (getline(cin, word)){\n",
    "    log_info.push_back(word);   // Add new word at the end of log_info\n",
    "    cout << \"Size: \" << log_info.size() << endl;\n",
    "}"
   ]
  },
  {
   "cell_type": "markdown",
   "metadata": {},
   "source": [
    "### at() and the subscript operator[]"
   ]
  },
  {
   "cell_type": "code",
   "execution_count": null,
   "metadata": {},
   "outputs": [],
   "source": [
    "// Classify camera data within the 0 - 255 pixels into 6 categories\n",
    "// 0 - 50 = 1; 51 - 101 = 2; \n",
    "// 102 - 152 = 3; 153 - 203 = 4;\n",
    "// 204 - 254 = 5; 255 = 6;\n",
    "// Enter camera information and display the categories present\n",
    "vector<unsigned> categories(6, 0);  // six categories all initialized to zero.\n",
    "unsigned pixel;\n",
    "for (unsigned int i = 1; i <= 5; i++){\n",
    "    cout << \"Input pixel: \";\n",
    "    cin >> pixel;\n",
    "    cout << \"Cluster appears \" << ++categories[pixel/51] << \" times\" << endl;\n",
    "    if (i == 5){\n",
    "        cout << \"\\nNo more entries allowed.\\nResult:\";\n",
    "    }\n",
    "}\n",
    "for (unsigned int i = 0; i < categories.size(); i++){\n",
    "    cout << \" \" << categories.at(i);\n",
    "}\n",
    "printf(\"\\n\");"
   ]
  }
 ],
 "metadata": {
  "interpreter": {
   "hash": "31f2aee4e71d21fbe5cf8b01ff0e069b9275f58929596ceb00d14d90e3e16cd6"
  },
  "kernelspec": {
   "display_name": "C++11",
   "language": "C++11",
   "name": "python3812jvsc74a57bd09ba41f6cbb98e865766c0e3d7da59a3d1b24cb48b7c9074b6de7aeccd491bede"
  },
  "language_info": {
   "codemirror_mode": {
    "name": "ipython",
    "version": 3
   },
   "file_extension": ".py",
   "mimetype": "text/x-python",
   "name": "C++11",
   "nbconvert_exporter": "python",
   "pygments_lexer": "ipython3",
   "version": "3.6.9"
  }
 },
 "nbformat": 4,
 "nbformat_minor": 2
}
